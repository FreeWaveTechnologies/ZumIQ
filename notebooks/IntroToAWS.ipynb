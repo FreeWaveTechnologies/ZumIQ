{
 "cells": [
  {
   "cell_type": "markdown",
   "metadata": {
    "slideshow": {
     "slide_type": "slide"
    }
   },
   "source": [
    "# Intro to AWS\n",
    "### Lunch and Learn\n",
    "---\n",
    "#### Zach Smialek\n",
    "#### 5.24.2018"
   ]
  },
  {
   "cell_type": "markdown",
   "metadata": {
    "slideshow": {
     "slide_type": "slide"
    }
   },
   "source": [
    "# Overview\n",
    "___\n",
    "- What is AWS and how it works\n",
    "- Getting Started\n",
    "- Configuration\n",
    "- Overview of services\n",
    "- Building an IoT Application\n"
   ]
  },
  {
   "cell_type": "markdown",
   "metadata": {
    "slideshow": {
     "slide_type": "slide"
    }
   },
   "source": [
    "# What is AWS\n",
    "---\n",
    "- Amazons cloud computing platform. \n",
    "- Bucket full of lego pieces.\n",
    "- Pay for what you use\n",
    "- Anything a developer would never need "
   ]
  },
  {
   "cell_type": "markdown",
   "metadata": {
    "slideshow": {
     "slide_type": "slide"
    }
   },
   "source": [
    "# Quick Tour of the Console\n",
    "---\n",
    "- Freewave Login: https://freewave.signin.aws.amazon.com/console\n",
    "- **User**: See board\n",
    "- **Password**: See board\n"
   ]
  },
  {
   "cell_type": "markdown",
   "metadata": {
    "slideshow": {
     "slide_type": "slide"
    }
   },
   "source": [
    "# AWS Credentials\n",
    "---\n",
    "In order to use services via [aws cli](https://aws.amazon.com/cli/) or [aws sdk](https://aws.amazon.com/tools/) we need to put keys in ~/.aws/credentials. We will setup credentials towards the end.\n"
   ]
  },
  {
   "cell_type": "code",
   "execution_count": 14,
   "metadata": {
    "slideshow": {
     "slide_type": "skip"
    }
   },
   "outputs": [],
   "source": [
    "import os\n",
    "\n",
    "def writer(file, contents):\n",
    "    \"\"\"Helper function to write files.\n",
    "    \n",
    "    Args:\n",
    "        file (string): File name to save contents to\n",
    "        contents (string): File contents to be written.\n",
    "    \n",
    "    Returns:\n",
    "        None\n",
    "    \"\"\"\n",
    "    with open(file, 'a') as f:\n",
    "        f.write(contents)"
   ]
  },
  {
   "cell_type": "code",
   "execution_count": 4,
   "metadata": {
    "slideshow": {
     "slide_type": "skip"
    }
   },
   "outputs": [],
   "source": [
    "def credentials(key, secret):\n",
    "    \"\"\"Contructs the string to be written to file.\n",
    "    \n",
    "    Args:\n",
    "        key (str): Is the aws_access_key_id generated when a user is \n",
    "            created through AWS IAM.\n",
    "        secret (str): Is the aws_secret_access_key generated when a \n",
    "            user is created through AWS IAM.\n",
    "        \n",
    "    Returns:\n",
    "        contents (str): Formatted string to be written to the\n",
    "            credentials file.\n",
    "            \n",
    "            [default]\n",
    "            aws_access_key_id = XXXXX\n",
    "            aws_secret_access_key = XXXXX\n",
    "    \"\"\"\n",
    "    aws_access_key_id = 'aws_acess_key_id = %s' % access_key\n",
    "    aws_secret_access_key = 'aws_secret_access_key = %s' % secret\n",
    "    \n",
    "    contents = \"[default]\\n%s\\n%s\" % (aws_access_key_id, \n",
    "                                     aws_secret_access_key)\n",
    "    return contents\n",
    "\n",
    "def save_credentials(credentials):\n",
    "    \"\"\"Saves AWS credentials in the correct place\n",
    "    \n",
    "    Saves a file named credentials ~/.aws this file tells AWS\n",
    "    who you can and which services you have rights to.\n",
    "    \n",
    "    Args:\n",
    "        credentials (str): contents of file to be writtem.\n",
    "        \n",
    "    Returns:\n",
    "        None\n",
    "    \"\"\"\n",
    "    path = os.path.expanduser('~/.aws') + '/credentials'\n",
    "\n",
    "    writer(path, credentials)\n",
    "\n",
    "access_key = 'CHANGE_ME'\n",
    "secret = 'CHANGE_ME'\n",
    "\n",
    "save_credentials(credentials(access_key, secret))"
   ]
  },
  {
   "cell_type": "markdown",
   "metadata": {
    "slideshow": {
     "slide_type": "slide"
    }
   },
   "source": [
    "# Services\n",
    "---\n",
    "Today the discussion well be centered a small subset of the service\n",
    "- EC2\n",
    "- S3\n",
    "- IoT Core\n",
    "- DynamoDB\n",
    "- Cloudformation\n",
    "- IAM"
   ]
  },
  {
   "cell_type": "markdown",
   "metadata": {
    "slideshow": {
     "slide_type": "subslide"
    }
   },
   "source": [
    "# EC2 - Elastic Compute Cloud\n",
    "###### clever right?\n",
    "---\n",
    "EC2 is all about giving you a way to host virtual machines. One has an array of different OS and power\n",
    "- Instance Type are VM's with different CPU, RAM, and networking capabilities\n",
    "- VM's are sorted into five different categories\n",
    "  - General\n",
    "  - Compute optimized\n",
    "  - Memory optimized\n",
    "  - Accelerated Computing\n",
    "  - Storage optimized"
   ]
  },
  {
   "cell_type": "markdown",
   "metadata": {
    "slideshow": {
     "slide_type": "subslide"
    }
   },
   "source": [
    "# S3 - Simple Storage Service\n",
    "##### even more clever\n",
    "---\n",
    "As the name implies this service is centered around storage! \n",
    "- Buckets are where files get uploaded to. Easy peasey you put objects into buckets\n",
    "- Buckets are global namespace names need to be unique."
   ]
  },
  {
   "cell_type": "code",
   "execution_count": 4,
   "metadata": {
    "slideshow": {
     "slide_type": "skip"
    }
   },
   "outputs": [],
   "source": [
    "import json\n",
    "\n",
    "s3 = boto3.client('s3')\n",
    "\n",
    "# TODO: Change bucket\n",
    "BUCKET_NAME = 'fw-iot-face-detection-app'\n",
    "\n",
    "BUCKET_POLICY = {\n",
    "    'Version': '2012-10-17',\n",
    "    'Statement': [{\n",
    "        'Sid': 'GetImagesBucketPolicy',\n",
    "        'Effect': 'Allow',\n",
    "        'Principal': '*',\n",
    "        'Action': ['s3:GetObject', 's3:PutObject'],\n",
    "        'Resource': \"arn:aws:s3:::%s/*\" % BUCKET_NAME\n",
    "    }]\n",
    "}\n",
    "\n",
    "\n",
    "def bucket_setup(bucket_name, bucket_policy):\n",
    "    \n",
    "    s3.create_bucket( Bucket=BUCKET_NAME,\n",
    "                      CreateBucketConfiguration = {\n",
    "                          'LocationConstraint': 'us-west-2'\n",
    "                       },\n",
    "                       ACL='private'\n",
    "                     )\n",
    "\n",
    "    bucket_policy = json.dumps(bucket_policy)\n",
    "\n",
    "    s3.put_bucket_policy(Bucket=BUCKET_NAME, Policy=bucket_policy)\n",
    "\n",
    "\n",
    "bucket_setup(BUCKET_NAME, BUCKET_POLICY)"
   ]
  },
  {
   "cell_type": "markdown",
   "metadata": {
    "slideshow": {
     "slide_type": "subslide"
    }
   },
   "source": [
    "# IoT Core \n",
    "---\n",
    "IoT core gives us the ability to connected and interacted with devices. I rely heavily on this service to get data into AWS.\n",
    "- MQTT\n",
    "  - Wildcards are supported\n",
    "- Broker\n",
    "  - Publish\n",
    "  - Subscribe\n",
    "- Rules Engine\n",
    "  - Ability to interact with other services\n",
    "  - Responds to messages coming in to the Broker"
   ]
  },
  {
   "cell_type": "markdown",
   "metadata": {},
   "source": [
    "# IoT Core\n",
    "---\n",
    "Lets say we have a topic some/sensor/location/reading we can define a rule.\n",
    "<br>\n",
    "- SELECT * FROM 'topic' \n",
    "- SELECT subset FROM 'topic\n",
    "- SELECT *, topic() as topic, timestamp() as time FROM 'topic'"
   ]
  },
  {
   "cell_type": "code",
   "execution_count": 44,
   "metadata": {
    "slideshow": {
     "slide_type": "skip"
    }
   },
   "outputs": [],
   "source": [
    "iot = boto3.client('iot')\n",
    "\n",
    "def create_thing(thing_name):\n",
    "    return iot.create_thing(\n",
    "        thingName=thing_name,\n",
    "        attributePayload={\n",
    "            'attributes': {\n",
    "                'event': 'lunchAndLearn'\n",
    "            },\n",
    "            'merge': True\n",
    "        }\n",
    "    )\n"
   ]
  },
  {
   "cell_type": "code",
   "execution_count": 43,
   "metadata": {
    "slideshow": {
     "slide_type": "skip"
    }
   },
   "outputs": [],
   "source": [
    "def create_policy(policy_name, policy_doc):\n",
    "    return iot.create_policy(\n",
    "        policyName=policy_name,\n",
    "        policyDocument=policy_doc\n",
    "    )"
   ]
  },
  {
   "cell_type": "code",
   "execution_count": 53,
   "metadata": {
    "slideshow": {
     "slide_type": "skip"
    }
   },
   "outputs": [],
   "source": [
    "def file_path(base_path, file_name):\n",
    "    \"\"\"Helper function to create path\n",
    "    \n",
    "    Args:\n",
    "        base_path (str): current working directory\n",
    "        file_name (str): name of file to be written\n",
    "    \n",
    "    Returns: \n",
    "        (str): Full path of a file to be written.\n",
    "    \n",
    "    \"\"\"\n",
    "    return base_path + file_name\n",
    "\n",
    "\n",
    "def save_keys(path, key_pair):\n",
    "    \"\"\"Save private and public key to current directory\n",
    "    \n",
    "    Args:\n",
    "        path (str): The path of the file with the file identifier\n",
    "        key_pair (dict): Public and private key\n",
    "        \n",
    "        'keyPair': {\n",
    "            'PublicKey': 'string',\n",
    "            'PrivateKey': 'string'\n",
    "        }\n",
    "        \n",
    "    Returns:\n",
    "        None\n",
    "    \n",
    "    \"\"\"\n",
    "    private_key = (file_path(path, 'private.pem.key'), key_pair['PrivateKey'])\n",
    "    public_key = (file_path(path, 'public.pem.key'), key_pair['PublicKey'])\n",
    "    \n",
    "    to_write = [private_key, public_key]\n",
    "    \n",
    "    for contents in to_write:\n",
    "        writer(contents[0], contents[1])\n",
    "    \n",
    "\n",
    "    \n",
    "def save_cert(path, cert):\n",
    "    \"\"\"Save cert to file system.\n",
    "    \n",
    "    Args:\n",
    "        path (str): Path of the file to be written\n",
    "        cert (str): Pem cert generated from AWS.\n",
    "        \n",
    "    Returns:\n",
    "        None\n",
    "    \n",
    "    \"\"\"\n",
    "    \n",
    "    file_name = file_path(path, 'certificate.pem.crt')\n",
    "    writer(file_name, cert)\n",
    "\n",
    "\n",
    "def create_keys_cert():\n",
    "    \"\"\"Creates keys and cert needed to connect things to the broker.\n",
    "    \n",
    "    Args:\n",
    "        None\n",
    "    \n",
    "    Returns:\n",
    "        cert_data (dict)\n",
    "        \n",
    "    {\n",
    "        'certificateArn': 'string',\n",
    "        'certificateId': 'string',\n",
    "        'certificatePem': 'string',\n",
    "        'keyPair': {\n",
    "            'PublicKey': 'string',\n",
    "            'PrivateKey': 'string'\n",
    "        }\n",
    "    }\n",
    "    \n",
    "    \"\"\"\n",
    "    cert_data = iot.create_keys_and_certificate(\n",
    "        setAsActive=True\n",
    "    )\n",
    "    \n",
    "    base_name = '/FWCam-Del-'\n",
    "    path = '%s%s' % (os.getcwd(), base_name)\n",
    "    \n",
    "    save_cert(path, cert_data['certificatePem'])\n",
    "    save_keys(path, cert_data['keyPair'])\n",
    "    \n",
    "    return cert_data"
   ]
  },
  {
   "cell_type": "code",
   "execution_count": 51,
   "metadata": {
    "slideshow": {
     "slide_type": "skip"
    }
   },
   "outputs": [],
   "source": [
    "def principal_attachment(thing_name, policy_name, cert_arn):\n",
    "    \"\"\"Attaches thing and policy to the generated cert.\n",
    "    \n",
    "    The principal is what has rights or access to the service. In this case the device hand\n",
    "        shakes with the broker before connecting. Then the \"device\" as access to the service.\n",
    "        \n",
    "    Args:\n",
    "        thing_name (str): Name of the that that was recently created.\n",
    "        policy_name (str): Name of the policy that was recently created.\n",
    "        cert_arn (str): The certs amazon resource name.\n",
    "        \n",
    "    Returns:\n",
    "        None\n",
    "    \"\"\"\n",
    "    \n",
    "    iot.attach_thing_principal(\n",
    "        thingName=thing_name,\n",
    "        principal=cert_arn\n",
    "    )\n",
    "    \n",
    "    iot.attach_policy(\n",
    "        policyName=policy_name,\n",
    "        target=cert_arn\n",
    "    )\n",
    "    "
   ]
  },
  {
   "cell_type": "code",
   "execution_count": 52,
   "metadata": {
    "slideshow": {
     "slide_type": "skip"
    }
   },
   "outputs": [],
   "source": [
    "def setup_thing(thing_name, policy_name):\n",
    "    \"\"\"Creates a IoT thing\n",
    "    \n",
    "    Args:\n",
    "        thing_name (str): name of thing there is a constraint letters, numbers\n",
    "            _, -\n",
    "    \n",
    "    Returns:\n",
    "        None\n",
    "    \"\"\"\n",
    "    POLICY_DOC = '''{\n",
    "      \"Version\": \"2012-10-17\",\n",
    "      \"Statement\": [\n",
    "        {\n",
    "          \"Action\": [\n",
    "            \"iot:Publish\",\n",
    "            \"iot:Subscribe\",\n",
    "            \"iot:Connect\",\n",
    "            \"iot:Receive\"\n",
    "          ],\n",
    "          \"Effect\": \"Allow\",\n",
    "          \"Resource\": [\n",
    "            \"*\"\n",
    "          ]\n",
    "        }\n",
    "      ]\n",
    "    } '''\n",
    "    \n",
    "    create_thing(thing_name)\n",
    "    create_policy(policy_name, POLICY_DOC)\n",
    "    cert_data = create_keys_cert()\n",
    "    principal_attachment(thing_name, policy_name, cert_data['certificateArn'])\n",
    "    \n",
    "    \n",
    "thing_name = 'FW-camera-2'\n",
    "policy_name = 'LunchAndLearnDELME'\n",
    "setup_thing(thing_name, policy_name)"
   ]
  },
  {
   "cell_type": "markdown",
   "metadata": {
    "slideshow": {
     "slide_type": "subslide"
    }
   },
   "source": [
    "# DynamoDB\n",
    "---\n",
    "NoSQL key value store database that is super flexible.\n",
    "- Key Schema\n",
    "  - Hash Key\n",
    "  - Range Key (optional)\n",
    "  - Global secondary index (optional)\n",
    "  - Local secondaryh index (optional)\n",
    "- Streams \n",
    "  - Transaction log\n",
    "- Querying\n",
    "  - Design schema around query needs\n",
    "  - Hash key **always** needs to be in query statement\n",
    "- Provisioned Throughput\n",
    "  - Read capacity units\n",
    "  - Write capacity units"
   ]
  },
  {
   "cell_type": "code",
   "execution_count": 25,
   "metadata": {
    "slideshow": {
     "slide_type": "skip"
    }
   },
   "outputs": [],
   "source": [
    "client = boto3.client('dynamodb')\n",
    "\n",
    "def create_table(table_name):\n",
    "    \"\"\"Creates a dynamodb table\n",
    "    \n",
    "    Simple example on creating a table in DynamoDB with Hash and Range key\n",
    "    \n",
    "    Args:\n",
    "        table_name (str): name of the DynamoDB table\n",
    "        \n",
    "    Returns:\n",
    "        response (dict): \n",
    "    \"\"\"\n",
    "    \n",
    "    key_schema = {'hash': 'SensorName', 'range': 'Timestamp'}\n",
    "    \n",
    "    response = client.create_table(\n",
    "        AttributeDefinitions=[\n",
    "            {\n",
    "                'AttributeName': key_schema['hash'],\n",
    "                'AttributeType': 'S',\n",
    "            },\n",
    "            {\n",
    "                'AttributeName': key_schema['range'],\n",
    "                'AttributeType': 'N'\n",
    "            }\n",
    "        ],\n",
    "        \n",
    "        TableName= table_name,\n",
    "        \n",
    "        KeySchema=[\n",
    "            {\n",
    "                'AttributeName': key_schema['hash'],\n",
    "                'KeyType': 'HASH'\n",
    "            },\n",
    "            {\n",
    "                'AttributeName': key_schema['range'],\n",
    "                'KeyType': 'RANGE'\n",
    "            }\n",
    "        ],\n",
    "        \n",
    "        ProvisionedThroughput={\n",
    "            'ReadCapacityUnits': 5,\n",
    "            'WriteCapacityUnits': 5\n",
    "        }\n",
    "    )\n",
    "\n",
    "create_table('FW.LunchAndLearn.SensorData')"
   ]
  },
  {
   "cell_type": "code",
   "execution_count": null,
   "metadata": {
    "slideshow": {
     "slide_type": "skip"
    }
   },
   "outputs": [],
   "source": [
    "dynamodb_item = { \n",
    "    'SensorName': {\n",
    "        'S': 'FakeThing'\n",
    "    },\n",
    "    'Timestamp': { \n",
    "        'N': '1234567894'\n",
    "    },\n",
    "    'SensorReading': {\n",
    "        'N': '46'\n",
    "    }\n",
    "}\n",
    "\n",
    "def insert_item(table_name, item):\n",
    "    \"\"\"Inserts an item in a given table\n",
    "    \n",
    "    The primary (hash) key needs to be in the item to insert\n",
    "    \n",
    "    Args:\n",
    "        table_name (str):\n",
    "        item (dict): item to insert into table\n",
    "        \n",
    "    Returns:\n",
    "        response (dict):\n",
    "    \"\"\"\n",
    "    return client.put_item(\n",
    "        TableName=table_name,\n",
    "        Item=item\n",
    "    )\n",
    "\n",
    "insert_item('FW.LunchAndLearn.SensorData', dynamodb_item)"
   ]
  },
  {
   "cell_type": "code",
   "execution_count": null,
   "metadata": {
    "slideshow": {
     "slide_type": "skip"
    }
   },
   "outputs": [],
   "source": [
    "from boto3.dynamodb.conditions import Key, Attr\n",
    "\n",
    "dynamodb = boto3.resource('dynamodb')\n",
    "\n",
    "def query_table(hash_key, key_value):\n",
    "    \"\"\"Queries table for a given key\n",
    "    \n",
    "    Args:\n",
    "        table_name (str): Name of the table\n",
    "        hash_key (str): Primary key of the table\n",
    "        range_key (str): Range key of the table\n",
    "    \n",
    "    Returns:\n",
    "        response (dict):\n",
    "        \n",
    "    \"\"\"\n",
    "    table = dynamodb.Table('FW.LunchAndLearn.SensorData')\n",
    "    \n",
    "    return table.query(\n",
    "        KeyConditionExpression=Key(hash_key).eq(key_value)\n",
    "    )\n",
    "\n",
    "print(query_table('SensorName', \"FakeThing\")['Items'])"
   ]
  },
  {
   "cell_type": "markdown",
   "metadata": {
    "slideshow": {
     "slide_type": "subslide"
    }
   },
   "source": [
    "# Cloudformation\n",
    "---\n",
    "A very very awesome service that allows you to create a stack via a JSON or YAML template. A stack is all the service you need for a given project. \n",
    "<br><br>\n",
    "**ZumDash v2 stack**\n",
    "- API Gateway\n",
    "- Lambda\n",
    "- DynamoDB\n",
    "- IoT Core\n",
    "- Cognito\n",
    "- S3\n",
    "- Cloudfront"
   ]
  },
  {
   "cell_type": "markdown",
   "metadata": {
    "slideshow": {
     "slide_type": "subslide"
    }
   },
   "source": [
    "# Cloudformation - DynamoDB Table\n",
    "---\n",
    "{\n",
    "  \"AWSTemplateFormatVersion\" : \"2010-09-09\",\n",
    "  \"Resources\" : {\n",
    "    \"myDynamoDBTable\" : {\n",
    "      \"Type\" : \"AWS::DynamoDB::Table\",\n",
    "      \"Properties\" : {\n",
    "        \"AttributeDefinitions\" : [\n",
    "          {\n",
    "            \"AttributeName\" : \"Album\",\n",
    "            \"AttributeType\" : \"S\"   \n",
    "          },\n",
    "          {\n",
    "            \"AttributeName\" : \"Artist\",\n",
    "            \"AttributeType\" : \"S\"\n",
    "          },\n",
    "          {\n",
    "            \"AttributeName\" : \"Sales\",\n",
    "            \"AttributeType\" : \"N\"\n",
    "          },\n",
    "          {\n",
    "            \"AttributeName\" : \"NumberOfSongs\",\n",
    "            \"AttributeType\" : \"N\"\n",
    "          }\n",
    "        ],\n",
    "        \"KeySchema\" : [\n",
    "          {\n",
    "            \"AttributeName\" : \"Album\",\n",
    "            \"KeyType\" : \"HASH\"\n",
    "          },\n",
    "          {\n",
    "            \"AttributeName\" : \"Artist\",\n",
    "            \"KeyType\" : \"RANGE\"\n",
    "          }\n",
    "        ],\n",
    "        \"ProvisionedThroughput\" : {\n",
    "          \"ReadCapacityUnits\" : \"5\",\n",
    "          \"WriteCapacityUnits\" : \"5\"\n",
    "        },\n",
    "        \"TableName\" : \"myTableName\"\n",
    "      }\n",
    "    }\n",
    "  }\n",
    "}"
   ]
  }
 ],
 "metadata": {
  "celltoolbar": "Slideshow",
  "kernelspec": {
   "display_name": "Python 3",
   "language": "python",
   "name": "python3"
  },
  "language_info": {
   "codemirror_mode": {
    "name": "ipython",
    "version": 3
   },
   "file_extension": ".py",
   "mimetype": "text/x-python",
   "name": "python",
   "nbconvert_exporter": "python",
   "pygments_lexer": "ipython3",
   "version": "3.6.4"
  }
 },
 "nbformat": 4,
 "nbformat_minor": 2
}
